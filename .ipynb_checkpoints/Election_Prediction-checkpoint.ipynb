{
 "cells": [
  {
   "cell_type": "code",
   "execution_count": 2,
   "metadata": {
    "colab": {
     "base_uri": "https://localhost:8080/"
    },
    "id": "-OuQlcx2NVe5",
    "outputId": "dd772691-34c5-44f2-de2c-dac6914f8506"
   },
   "outputs": [],
   "source": [
    "import pandas as pd\n",
    "import seaborn as sns\n",
    "import matplotlib.pyplot as plt\n",
    "import warnings\n",
    "warnings.simplefilter(\"ignore\", UserWarning)"
   ]
  },
  {
   "cell_type": "code",
   "execution_count": 3,
   "metadata": {
    "id": "PjV5KGudYA3Y"
   },
   "outputs": [],
   "source": [
    "def WL(p):\n",
    "  if p[0] == 1:\n",
    "    print(\"Win\")\n",
    "  else: \n",
    "    print(\"Lose\")"
   ]
  },
  {
   "cell_type": "code",
   "execution_count": null,
   "metadata": {
    "id": "VmAarXApO9IF"
   },
   "outputs": [],
   "source": []
  },
  {
   "cell_type": "markdown",
   "metadata": {
    "id": "O0pJQBvwSrZc"
   },
   "source": []
  },
  {
   "cell_type": "code",
   "execution_count": 5,
   "metadata": {
    "colab": {
     "base_uri": "https://localhost:8080/",
     "height": 354
    },
    "id": "EhBDE4W0ThTu",
    "outputId": "b30681db-86ef-44d7-c359-d51be773f96b"
   },
   "outputs": [
    {
     "data": {
      "text/html": [
       "<div>\n",
       "<style scoped>\n",
       "    .dataframe tbody tr th:only-of-type {\n",
       "        vertical-align: middle;\n",
       "    }\n",
       "\n",
       "    .dataframe tbody tr th {\n",
       "        vertical-align: top;\n",
       "    }\n",
       "\n",
       "    .dataframe thead th {\n",
       "        text-align: right;\n",
       "    }\n",
       "</style>\n",
       "<table border=\"1\" class=\"dataframe\">\n",
       "  <thead>\n",
       "    <tr style=\"text-align: right;\">\n",
       "      <th></th>\n",
       "      <th>AC Name</th>\n",
       "      <th>AC No.</th>\n",
       "      <th>Type</th>\n",
       "      <th>District</th>\n",
       "      <th>Candidate</th>\n",
       "      <th>Party</th>\n",
       "      <th>EVM Votes</th>\n",
       "      <th>Postal Votes</th>\n",
       "      <th>Total Votes</th>\n",
       "      <th>% of Votes</th>\n",
       "      <th>Party Number</th>\n",
       "      <th>District Number</th>\n",
       "      <th>Age</th>\n",
       "      <th>Marital Status</th>\n",
       "      <th>Number of Criminal Cases</th>\n",
       "      <th>Gender</th>\n",
       "      <th>Education</th>\n",
       "      <th>Result</th>\n",
       "    </tr>\n",
       "  </thead>\n",
       "  <tbody>\n",
       "    <tr>\n",
       "      <th>0</th>\n",
       "      <td>Aldona</td>\n",
       "      <td>10</td>\n",
       "      <td>GEN</td>\n",
       "      <td>North Goa</td>\n",
       "      <td>CARLOS ALVARES FERREIRA</td>\n",
       "      <td>Indian National Congress</td>\n",
       "      <td>9074</td>\n",
       "      <td>246</td>\n",
       "      <td>9320.0</td>\n",
       "      <td>41.43</td>\n",
       "      <td>1</td>\n",
       "      <td>1</td>\n",
       "      <td>69</td>\n",
       "      <td>Single</td>\n",
       "      <td>3</td>\n",
       "      <td>MALE</td>\n",
       "      <td>Post Graduate</td>\n",
       "      <td>1</td>\n",
       "    </tr>\n",
       "    <tr>\n",
       "      <th>1</th>\n",
       "      <td>Benaulim</td>\n",
       "      <td>32</td>\n",
       "      <td>GEN</td>\n",
       "      <td>South Goa</td>\n",
       "      <td>Venzy Viegas</td>\n",
       "      <td>Aam Aadmi Party</td>\n",
       "      <td>4996</td>\n",
       "      <td>144</td>\n",
       "      <td>5140.0</td>\n",
       "      <td>24.34</td>\n",
       "      <td>2</td>\n",
       "      <td>2</td>\n",
       "      <td>54</td>\n",
       "      <td>Married</td>\n",
       "      <td>0</td>\n",
       "      <td>MALE</td>\n",
       "      <td>Post Graduate</td>\n",
       "      <td>1</td>\n",
       "    </tr>\n",
       "    <tr>\n",
       "      <th>2</th>\n",
       "      <td>Bicholim</td>\n",
       "      <td>3</td>\n",
       "      <td>SC</td>\n",
       "      <td>North Goa</td>\n",
       "      <td>DR. CHANDRAKANT SHETYE</td>\n",
       "      <td>Independent</td>\n",
       "      <td>8912</td>\n",
       "      <td>378</td>\n",
       "      <td>9290.0</td>\n",
       "      <td>35.89</td>\n",
       "      <td>3</td>\n",
       "      <td>1</td>\n",
       "      <td>65</td>\n",
       "      <td>Divorced</td>\n",
       "      <td>0</td>\n",
       "      <td>MALE</td>\n",
       "      <td>Graduate</td>\n",
       "      <td>1</td>\n",
       "    </tr>\n",
       "    <tr>\n",
       "      <th>3</th>\n",
       "      <td>Calangute</td>\n",
       "      <td>8</td>\n",
       "      <td>GEN</td>\n",
       "      <td>North Goa</td>\n",
       "      <td>Michael Vincent Lobo</td>\n",
       "      <td>Indian National Congress</td>\n",
       "      <td>9103</td>\n",
       "      <td>182</td>\n",
       "      <td>9285.0</td>\n",
       "      <td>45.09</td>\n",
       "      <td>1</td>\n",
       "      <td>1</td>\n",
       "      <td>45</td>\n",
       "      <td>Single</td>\n",
       "      <td>0</td>\n",
       "      <td>FEMALE</td>\n",
       "      <td>Doctorate</td>\n",
       "      <td>1</td>\n",
       "    </tr>\n",
       "    <tr>\n",
       "      <th>4</th>\n",
       "      <td>Canacona</td>\n",
       "      <td>40</td>\n",
       "      <td>GEN</td>\n",
       "      <td>South Goa</td>\n",
       "      <td>Ramesh Tawadkar</td>\n",
       "      <td>Bharatiya Janata Party</td>\n",
       "      <td>8636</td>\n",
       "      <td>427</td>\n",
       "      <td>9063.0</td>\n",
       "      <td>31.11</td>\n",
       "      <td>4</td>\n",
       "      <td>2</td>\n",
       "      <td>61</td>\n",
       "      <td>Married</td>\n",
       "      <td>0</td>\n",
       "      <td>MALE</td>\n",
       "      <td>Post Graduate</td>\n",
       "      <td>1</td>\n",
       "    </tr>\n",
       "  </tbody>\n",
       "</table>\n",
       "</div>"
      ],
      "text/plain": [
       "     AC Name  AC No. Type   District                Candidate  \\\n",
       "0     Aldona      10  GEN  North Goa  CARLOS ALVARES FERREIRA   \n",
       "1   Benaulim      32  GEN  South Goa             Venzy Viegas   \n",
       "2   Bicholim       3   SC  North Goa   DR. CHANDRAKANT SHETYE   \n",
       "3  Calangute       8  GEN  North Goa     Michael Vincent Lobo   \n",
       "4   Canacona      40  GEN  South Goa          Ramesh Tawadkar   \n",
       "\n",
       "                      Party  EVM Votes  Postal Votes  Total Votes  % of Votes  \\\n",
       "0  Indian National Congress       9074           246       9320.0       41.43   \n",
       "1           Aam Aadmi Party       4996           144       5140.0       24.34   \n",
       "2               Independent       8912           378       9290.0       35.89   \n",
       "3  Indian National Congress       9103           182       9285.0       45.09   \n",
       "4    Bharatiya Janata Party       8636           427       9063.0       31.11   \n",
       "\n",
       "   Party Number  District Number  Age Marital Status  \\\n",
       "0             1                1   69         Single   \n",
       "1             2                2   54        Married   \n",
       "2             3                1   65       Divorced   \n",
       "3             1                1   45         Single   \n",
       "4             4                2   61        Married   \n",
       "\n",
       "   Number of Criminal Cases  Gender      Education  Result  \n",
       "0                         3    MALE  Post Graduate       1  \n",
       "1                         0    MALE  Post Graduate       1  \n",
       "2                         0    MALE       Graduate       1  \n",
       "3                         0  FEMALE      Doctorate       1  \n",
       "4                         0    MALE  Post Graduate       1  "
      ]
     },
     "execution_count": 5,
     "metadata": {},
     "output_type": "execute_result"
    }
   ],
   "source": [
    "import numpy as np\n",
    "import pandas as pd\n",
    "from sklearn.metrics import classification_report\n",
    "df = pd.read_csv('a.csv')\n",
    "df.head()"
   ]
  },
  {
   "cell_type": "code",
   "execution_count": 6,
   "metadata": {
    "colab": {
     "base_uri": "https://localhost:8080/",
     "height": 354
    },
    "id": "eipMI9g-Tkf1",
    "outputId": "4b803290-023b-43dd-b5dd-54eb089f3808"
   },
   "outputs": [
    {
     "data": {
      "text/html": [
       "<div>\n",
       "<style scoped>\n",
       "    .dataframe tbody tr th:only-of-type {\n",
       "        vertical-align: middle;\n",
       "    }\n",
       "\n",
       "    .dataframe tbody tr th {\n",
       "        vertical-align: top;\n",
       "    }\n",
       "\n",
       "    .dataframe thead th {\n",
       "        text-align: right;\n",
       "    }\n",
       "</style>\n",
       "<table border=\"1\" class=\"dataframe\">\n",
       "  <thead>\n",
       "    <tr style=\"text-align: right;\">\n",
       "      <th></th>\n",
       "      <th>AC Name</th>\n",
       "      <th>AC No.</th>\n",
       "      <th>Type</th>\n",
       "      <th>District</th>\n",
       "      <th>Candidate</th>\n",
       "      <th>Party</th>\n",
       "      <th>EVM Votes</th>\n",
       "      <th>Postal Votes</th>\n",
       "      <th>Total Votes</th>\n",
       "      <th>% of Votes</th>\n",
       "      <th>Party Number</th>\n",
       "      <th>District Number</th>\n",
       "      <th>Age</th>\n",
       "      <th>Marital Status</th>\n",
       "      <th>Number of Criminal Cases</th>\n",
       "      <th>Gender</th>\n",
       "      <th>Education</th>\n",
       "      <th>Result</th>\n",
       "    </tr>\n",
       "  </thead>\n",
       "  <tbody>\n",
       "    <tr>\n",
       "      <th>155</th>\n",
       "      <td>Velim</td>\n",
       "      <td>35</td>\n",
       "      <td>GEN</td>\n",
       "      <td>South Goa</td>\n",
       "      <td>DAGLEY FERNANDES</td>\n",
       "      <td>Revolutionary Goans Party</td>\n",
       "      <td>3604</td>\n",
       "      <td>49</td>\n",
       "      <td>3653.0</td>\n",
       "      <td>15.62</td>\n",
       "      <td>7</td>\n",
       "      <td>2</td>\n",
       "      <td>37</td>\n",
       "      <td>Single</td>\n",
       "      <td>10</td>\n",
       "      <td>FEMALE</td>\n",
       "      <td>10th Pass</td>\n",
       "      <td>0</td>\n",
       "    </tr>\n",
       "    <tr>\n",
       "      <th>156</th>\n",
       "      <td>Nuvem</td>\n",
       "      <td>28</td>\n",
       "      <td>SC</td>\n",
       "      <td>South Goa</td>\n",
       "      <td>ALEIXO SEQUEIRA</td>\n",
       "      <td>Indian National Congress</td>\n",
       "      <td>8556</td>\n",
       "      <td>189</td>\n",
       "      <td>8745.0</td>\n",
       "      <td>40.09</td>\n",
       "      <td>1</td>\n",
       "      <td>2</td>\n",
       "      <td>35</td>\n",
       "      <td>Married</td>\n",
       "      <td>3</td>\n",
       "      <td>MALE</td>\n",
       "      <td>10th Pass</td>\n",
       "      <td>0</td>\n",
       "    </tr>\n",
       "    <tr>\n",
       "      <th>157</th>\n",
       "      <td>Nuvem</td>\n",
       "      <td>28</td>\n",
       "      <td>SC</td>\n",
       "      <td>South Goa</td>\n",
       "      <td>Datta Borkar</td>\n",
       "      <td>Bharatiya Janata Party</td>\n",
       "      <td>547</td>\n",
       "      <td>22</td>\n",
       "      <td>569.0</td>\n",
       "      <td>2.61</td>\n",
       "      <td>4</td>\n",
       "      <td>2</td>\n",
       "      <td>37</td>\n",
       "      <td>Single</td>\n",
       "      <td>65</td>\n",
       "      <td>FEMALE</td>\n",
       "      <td>10th Pass</td>\n",
       "      <td>0</td>\n",
       "    </tr>\n",
       "    <tr>\n",
       "      <th>158</th>\n",
       "      <td>Nuvem</td>\n",
       "      <td>28</td>\n",
       "      <td>SC</td>\n",
       "      <td>South Goa</td>\n",
       "      <td>JOSE R CABRAL (RAJU)</td>\n",
       "      <td>All India Trinamool Congress</td>\n",
       "      <td>1690</td>\n",
       "      <td>28</td>\n",
       "      <td>1718.0</td>\n",
       "      <td>7.88</td>\n",
       "      <td>8</td>\n",
       "      <td>2</td>\n",
       "      <td>33</td>\n",
       "      <td>Single</td>\n",
       "      <td>11</td>\n",
       "      <td>FEMALE</td>\n",
       "      <td>10th Pass</td>\n",
       "      <td>0</td>\n",
       "    </tr>\n",
       "    <tr>\n",
       "      <th>159</th>\n",
       "      <td>Nuvem</td>\n",
       "      <td>28</td>\n",
       "      <td>SC</td>\n",
       "      <td>South Goa</td>\n",
       "      <td>WILFRED D'SA</td>\n",
       "      <td>Independent</td>\n",
       "      <td>2887</td>\n",
       "      <td>74</td>\n",
       "      <td>2961.0</td>\n",
       "      <td>13.58</td>\n",
       "      <td>3</td>\n",
       "      <td>2</td>\n",
       "      <td>40</td>\n",
       "      <td>Single</td>\n",
       "      <td>2</td>\n",
       "      <td>MALE</td>\n",
       "      <td>10th Pass</td>\n",
       "      <td>0</td>\n",
       "    </tr>\n",
       "  </tbody>\n",
       "</table>\n",
       "</div>"
      ],
      "text/plain": [
       "    AC Name  AC No. Type   District             Candidate  \\\n",
       "155   Velim      35  GEN  South Goa      DAGLEY FERNANDES   \n",
       "156   Nuvem      28   SC  South Goa       ALEIXO SEQUEIRA   \n",
       "157   Nuvem      28   SC  South Goa          Datta Borkar   \n",
       "158   Nuvem      28   SC  South Goa  JOSE R CABRAL (RAJU)   \n",
       "159   Nuvem      28   SC  South Goa          WILFRED D'SA   \n",
       "\n",
       "                            Party  EVM Votes  Postal Votes  Total Votes  \\\n",
       "155     Revolutionary Goans Party       3604            49       3653.0   \n",
       "156      Indian National Congress       8556           189       8745.0   \n",
       "157        Bharatiya Janata Party        547            22        569.0   \n",
       "158  All India Trinamool Congress       1690            28       1718.0   \n",
       "159                   Independent       2887            74       2961.0   \n",
       "\n",
       "     % of Votes  Party Number  District Number  Age Marital Status  \\\n",
       "155       15.62             7                2   37         Single   \n",
       "156       40.09             1                2   35        Married   \n",
       "157        2.61             4                2   37         Single   \n",
       "158        7.88             8                2   33         Single   \n",
       "159       13.58             3                2   40         Single   \n",
       "\n",
       "     Number of Criminal Cases  Gender  Education  Result  \n",
       "155                        10  FEMALE  10th Pass       0  \n",
       "156                         3    MALE  10th Pass       0  \n",
       "157                        65  FEMALE  10th Pass       0  \n",
       "158                        11  FEMALE  10th Pass       0  \n",
       "159                         2    MALE  10th Pass       0  "
      ]
     },
     "execution_count": 6,
     "metadata": {},
     "output_type": "execute_result"
    }
   ],
   "source": [
    "df.tail()"
   ]
  },
  {
   "cell_type": "code",
   "execution_count": 7,
   "metadata": {
    "colab": {
     "base_uri": "https://localhost:8080/"
    },
    "id": "7BsFJ-7LUawT",
    "outputId": "68796e13-2718-415f-9be5-22ced104186b"
   },
   "outputs": [
    {
     "data": {
      "text/plain": [
       "Index(['AC Name', 'AC No.', 'Type', 'District', 'Candidate', 'Party',\n",
       "       'EVM Votes', 'Postal Votes', 'Total Votes', '% of Votes',\n",
       "       'Party Number', 'District Number', 'Age', 'Marital Status',\n",
       "       'Number of Criminal Cases', 'Gender', 'Education', 'Result'],\n",
       "      dtype='object')"
      ]
     },
     "execution_count": 7,
     "metadata": {},
     "output_type": "execute_result"
    }
   ],
   "source": [
    "df.columns"
   ]
  },
  {
   "cell_type": "code",
   "execution_count": 8,
   "metadata": {
    "colab": {
     "base_uri": "https://localhost:8080/",
     "height": 713
    },
    "id": "L0EnJwrYyyfU",
    "outputId": "81040415-e2ba-479b-9d94-f684e7678959"
   },
   "outputs": [
    {
     "name": "stderr",
     "output_type": "stream",
     "text": [
      "C:\\Users\\chris\\anaconda3\\lib\\site-packages\\matplotlib\\backends\\backend_agg.py:240: RuntimeWarning: Glyph 9 missing from current font.\n",
      "  font.set_text(s, 0.0, flags=flags)\n",
      "C:\\Users\\chris\\anaconda3\\lib\\site-packages\\matplotlib\\backends\\backend_agg.py:203: RuntimeWarning: Glyph 9 missing from current font.\n",
      "  font.set_text(s, 0, flags=flags)\n"
     ]
    },
    {
     "data": {
      "image/png": "[encoded data removed]",
      "text/plain": [
       "<Figure size 864x576 with 1 Axes>"
      ]
     },
     "metadata": {
      "needs_background": "light"
     },
     "output_type": "display_data"
    }
   ],
   "source": [
    "plt.figure(figsize = (12,8))\n",
    "plt.xticks(rotation = 90)\n",
    "sns.barplot(x=\"Party\", y=\"% of Votes\", hue=\"Type\" ,data=df)\n",
    "plt.title(\"Party vs Percentage of Votes\")\n",
    "plt.show()"
   ]
  },
  {
   "cell_type": "code",
   "execution_count": 9,
   "metadata": {
    "colab": {
     "base_uri": "https://localhost:8080/",
     "height": 713
    },
    "id": "8klKSjGhzUdE",
    "outputId": "e2a37c42-93c6-4677-99e8-8ea04414abf4"
   },
   "outputs": [
    {
     "name": "stderr",
     "output_type": "stream",
     "text": [
      "C:\\Users\\chris\\anaconda3\\lib\\site-packages\\matplotlib\\backends\\backend_agg.py:240: RuntimeWarning: Glyph 9 missing from current font.\n",
      "  font.set_text(s, 0.0, flags=flags)\n",
      "C:\\Users\\chris\\anaconda3\\lib\\site-packages\\matplotlib\\backends\\backend_agg.py:203: RuntimeWarning: Glyph 9 missing from current font.\n",
      "  font.set_text(s, 0, flags=flags)\n"
     ]
    },
    {
     "data": {
      "image/png": "[encoded data removed]",
      "text/plain": [
       "<Figure size 864x576 with 1 Axes>"
      ]
     },
     "metadata": {
      "needs_background": "light"
     },
     "output_type": "display_data"
    }
   ],
   "source": [
    "plt.figure(figsize = (12,8))\n",
    "plt.xticks(rotation = 90)\n",
    "sns.boxplot(x=\"Party\", y=\"% of Votes\", hue=\"Type\" ,data=df)\n",
    "plt.title(\"Party vs Percentage of Votes\")\n",
    "plt.show()"
   ]
  },
  {
   "cell_type": "code",
   "execution_count": 10,
   "metadata": {
    "colab": {
     "base_uri": "https://localhost:8080/",
     "height": 295
    },
    "id": "EFd832M41lgT",
    "outputId": "d8d3f9b5-a5a5-4620-ebff-3fc1117b22b9"
   },
   "outputs": [
    {
     "data": {
      "image/png": "[encoded data removed]",
      "text/plain": [
       "<Figure size 432x288 with 1 Axes>"
      ]
     },
     "metadata": {
      "needs_background": "light"
     },
     "output_type": "display_data"
    }
   ],
   "source": [
    "plt.scatter(x='Age',y='% of Votes',color='r', data = df)\n",
    "plt.xlabel('Age')\n",
    "plt.ylabel('% of Votes')\n",
    "plt.title('Age v/s % of Votes')\n",
    "plt.legend()\n",
    "plt.show()"
   ]
  },
  {
   "cell_type": "code",
   "execution_count": 11,
   "metadata": {
    "colab": {
     "base_uri": "https://localhost:8080/",
     "height": 509
    },
    "id": "p7cDO7YUStlx",
    "outputId": "6cffccdc-be89-4d0b-dfc7-8f0c7269748a"
   },
   "outputs": [
    {
     "data": {
      "image/png": "[encoded data removed]",
      "text/plain": [
       "<Figure size 864x576 with 1 Axes>"
      ]
     },
     "metadata": {
      "needs_background": "light"
     },
     "output_type": "display_data"
    }
   ],
   "source": [
    "plt.figure(figsize = (12,8))\n",
    "plt.xticks(rotation = 90)\n",
    "sns.boxplot(x=\"Gender\", y=\"% of Votes\",data=df)\n",
    "plt.title(\"Gender vs Percentage of Votes\")\n",
    "plt.show()"
   ]
  },
  {
   "cell_type": "code",
   "execution_count": 12,
   "metadata": {
    "colab": {
     "base_uri": "https://localhost:8080/",
     "height": 574
    },
    "id": "8O1BZU7G3XQT",
    "outputId": "b47396ea-e893-4bf7-abb4-cd1535b47aeb"
   },
   "outputs": [
    {
     "data": {
      "image/png": "[encoded data removed]",
      "text/plain": [
       "<Figure size 864x576 with 1 Axes>"
      ]
     },
     "metadata": {
      "needs_background": "light"
     },
     "output_type": "display_data"
    }
   ],
   "source": [
    "plt.figure(figsize = (12,8))\n",
    "plt.xticks(rotation = 90)\n",
    "sns.boxplot(x=\"Education\", y=\"% of Votes\",data=df)\n",
    "plt.title(\"Party vs Percentage of Votes\")\n",
    "plt.show()"
   ]
  },
  {
   "cell_type": "code",
   "execution_count": 13,
   "metadata": {
    "id": "VNmTfqwBVPtV"
   },
   "outputs": [],
   "source": [
    "from sklearn.preprocessing import LabelEncoder\n",
    "le = LabelEncoder()\n",
    "df['Marital Status'] = le.fit_transform(df['Marital Status'])\n",
    "df['Gender'] = le.fit_transform(df['Gender'])\n",
    "df['Education'] = le.fit_transform(df['Education'])"
   ]
  },
  {
   "cell_type": "code",
   "execution_count": 14,
   "metadata": {
    "colab": {
     "base_uri": "https://localhost:8080/"
    },
    "id": "H4Tjoz_JVqyv",
    "outputId": "73289ad5-a702-437c-feed-e28a8b68a657"
   },
   "outputs": [
    {
     "name": "stdout",
     "output_type": "stream",
     "text": [
      "     Party Number  Age  Number of Criminal Cases  Gender  Education\n",
      "0               1   69                         3       1          5\n",
      "1               2   54                         0       1          5\n",
      "2               3   65                         0       1          4\n",
      "3               1   45                         0       0          3\n",
      "4               4   61                         0       1          5\n",
      "..            ...  ...                       ...     ...        ...\n",
      "155             7   37                        10       0          0\n",
      "156             1   35                         3       1          0\n",
      "157             4   37                        65       0          0\n",
      "158             8   33                        11       0          0\n",
      "159             3   40                         2       1          0\n",
      "\n",
      "[160 rows x 5 columns]\n"
     ]
    }
   ],
   "source": [
    "new = df[['Party Number', 'Age', 'Number of Criminal Cases', 'Gender', 'Education', 'Result']]\n",
    "x = new.iloc[:,:5]\n",
    "print(x)"
   ]
  },
  {
   "cell_type": "code",
   "execution_count": 15,
   "metadata": {
    "colab": {
     "base_uri": "https://localhost:8080/"
    },
    "id": "QmkwEE1QWnoC",
    "outputId": "9e93deb1-d174-4937-93f1-c59d5b5c6fb8"
   },
   "outputs": [
    {
     "name": "stdout",
     "output_type": "stream",
     "text": [
      "0      1\n",
      "1      1\n",
      "2      1\n",
      "3      1\n",
      "4      1\n",
      "      ..\n",
      "155    0\n",
      "156    0\n",
      "157    0\n",
      "158    0\n",
      "159    0\n",
      "Name: Result, Length: 160, dtype: int64\n"
     ]
    }
   ],
   "source": [
    "y = new.iloc[:,-1]\n",
    "print(y)"
   ]
  },
  {
   "cell_type": "code",
   "execution_count": 16,
   "metadata": {
    "colab": {
     "base_uri": "https://localhost:8080/"
    },
    "id": "vWnYVcx2Ynou",
    "outputId": "7d17c27c-6cd9-484e-beb4-9f8161e417d6"
   },
   "outputs": [
    {
     "name": "stdout",
     "output_type": "stream",
     "text": [
      "(160, 5)\n",
      "(160,)\n"
     ]
    }
   ],
   "source": [
    "print(x.shape)\n",
    "print(y.shape)"
   ]
  },
  {
   "cell_type": "code",
   "execution_count": 17,
   "metadata": {
    "colab": {
     "base_uri": "https://localhost:8080/"
    },
    "id": "KhfFqnK7Yras",
    "outputId": "90a5d2b6-90d5-4422-eef4-0b4ef163e512"
   },
   "outputs": [
    {
     "name": "stdout",
     "output_type": "stream",
     "text": [
      "(144, 5)\n",
      "(144,)\n",
      "(16, 5)\n",
      "(16,)\n"
     ]
    }
   ],
   "source": [
    "from sklearn.model_selection import train_test_split\n",
    "\n",
    "x_train, x_test, y_train, y_test = train_test_split(x, y, test_size = 0.10, random_state = 45)\n",
    "\n",
    "print(x_train.shape)\n",
    "print(y_train.shape)\n",
    "print(x_test.shape)\n",
    "print(y_test.shape)"
   ]
  },
  {
   "cell_type": "code",
   "execution_count": 18,
   "metadata": {
    "colab": {
     "base_uri": "https://localhost:8080/"
    },
    "id": "t7uPuQbGY01-",
    "outputId": "225ee1bc-41ff-4ed1-df03-560159e73362"
   },
   "outputs": [
    {
     "name": "stdout",
     "output_type": "stream",
     "text": [
      "Training Accuracy : 1.0\n",
      "Testing Accuracy : 0.9375\n"
     ]
    }
   ],
   "source": [
    "from sklearn.ensemble import RandomForestClassifier\n",
    "\n",
    "\n",
    "model = RandomForestClassifier()\n",
    "model.fit(x_train, y_train)\n",
    "y_pred = model.predict(x_test)\n",
    "print(\"Training Accuracy :\", model.score(x_train, y_train))\n",
    "print(\"Testing Accuracy :\", model.score(x_test, y_test))\n"
   ]
  },
  {
   "cell_type": "code",
   "execution_count": 19,
   "metadata": {
    "colab": {
     "base_uri": "https://localhost:8080/",
     "height": 504
    },
    "id": "k7B9L1xFZL0Z",
    "outputId": "60906f4a-37bd-481d-9fa8-960f00914200"
   },
   "outputs": [
    {
     "data": {
      "image/png": "[encoded data removed]",
      "text/plain": [
       "<Figure size 576x576 with 2 Axes>"
      ]
     },
     "metadata": {
      "needs_background": "light"
     },
     "output_type": "display_data"
    }
   ],
   "source": [
    "from sklearn.metrics import confusion_matrix\n",
    "cm = confusion_matrix(y_test, y_pred)\n",
    "plt.rcParams['figure.figsize'] = (8, 8)\n",
    "sns.heatmap(cm, annot = True, cmap = 'Reds')\n",
    "plt.title('Confusion Matrix for Random Forest', fontweight = 30, fontsize = 20)\n",
    "plt.show()"
   ]
  },
  {
   "cell_type": "code",
   "execution_count": 20,
   "metadata": {
    "colab": {
     "base_uri": "https://localhost:8080/"
    },
    "id": "70EOisBmZUYi",
    "outputId": "05777eb5-9bc8-4f08-a3a6-5227819458e4"
   },
   "outputs": [
    {
     "name": "stdout",
     "output_type": "stream",
     "text": [
      "Decision Tree Model Accuracy :  0.9375\n"
     ]
    }
   ],
   "source": [
    "from sklearn.tree import DecisionTreeClassifier\n",
    "from sklearn.metrics import accuracy_score,classification_report,confusion_matrix\n",
    "clf_model = DecisionTreeClassifier(criterion=\"gini\", random_state=42,max_depth=3, min_samples_leaf=5)   \n",
    "clf_model.fit(x_train,y_train)\n",
    "y_predict = clf_model.predict(x_test)\n",
    "print(\"Decision Tree Model Accuracy : \",accuracy_score(y_test,y_predict))"
   ]
  },
  {
   "cell_type": "code",
   "execution_count": 21,
   "metadata": {
    "colab": {
     "base_uri": "https://localhost:8080/"
    },
    "id": "K_bRLl4wI9V6",
    "outputId": "7c552282-04a1-46b1-be04-43319ed3bf0b"
   },
   "outputs": [
    {
     "name": "stdout",
     "output_type": "stream",
     "text": [
      "Training Accuracy : 0.9930555555555556\n",
      "Testing Accuracy : 0.9375\n"
     ]
    }
   ],
   "source": [
    "print(\"Training Accuracy :\", clf_model.score(x_train, y_train))\n",
    "print(\"Testing Accuracy :\", clf_model.score(x_test, y_test))\n",
    "\n"
   ]
  },
  {
   "cell_type": "code",
   "execution_count": 22,
   "metadata": {
    "colab": {
     "base_uri": "https://localhost:8080/",
     "height": 504
    },
    "id": "ELyKiGbabUxb",
    "outputId": "62af53b4-3dbd-49aa-8331-6e47ad939920"
   },
   "outputs": [
    {
     "data": {
      "image/png": "[encoded data removed]",
      "text/plain": [
       "<Figure size 576x576 with 2 Axes>"
      ]
     },
     "metadata": {
      "needs_background": "light"
     },
     "output_type": "display_data"
    }
   ],
   "source": [
    "cm = confusion_matrix(y_test, y_predict)\n",
    "plt.rcParams['figure.figsize'] = (8, 8)\n",
    "sns.heatmap(cm, annot = True, cmap = 'Reds')\n",
    "plt.title('Confusion Matrix for Decision Tree', fontweight = 30, fontsize = 20)\n",
    "plt.show()"
   ]
  },
  {
   "cell_type": "code",
   "execution_count": 23,
   "metadata": {
    "id": "9Su0NuXVJPnH"
   },
   "outputs": [],
   "source": [
    "from sklearn.neighbors import KNeighborsClassifier\n",
    "classifier = KNeighborsClassifier(n_neighbors=5)\n",
    "classifier.fit(x_train, y_train)\n",
    "y_pred3 = classifier.predict(x_test)\n"
   ]
  },
  {
   "cell_type": "code",
   "execution_count": 24,
   "metadata": {
    "colab": {
     "base_uri": "https://localhost:8080/"
    },
    "id": "gMercyRyapQO",
    "outputId": "8330fbc0-e503-4ff8-e6f5-f276e29281bc"
   },
   "outputs": [
    {
     "name": "stdout",
     "output_type": "stream",
     "text": [
      "Training Accuracy : 0.9861111111111112\n",
      "Testing Accuracy : 0.9375\n"
     ]
    }
   ],
   "source": [
    "print(\"Training Accuracy :\", classifier.score(x_train, y_train))\n",
    "print(\"Testing Accuracy :\", classifier.score(x_test, y_test))"
   ]
  },
  {
   "cell_type": "code",
   "execution_count": 25,
   "metadata": {
    "colab": {
     "base_uri": "https://localhost:8080/",
     "height": 504
    },
    "id": "dmTcvdHWb6oz",
    "outputId": "f3e95f6d-cd3e-4cfa-c453-0409656201b4"
   },
   "outputs": [
    {
     "data": {
      "image/png": "[encoded data removed]",
      "text/plain": [
       "<Figure size 576x576 with 2 Axes>"
      ]
     },
     "metadata": {
      "needs_background": "light"
     },
     "output_type": "display_data"
    }
   ],
   "source": [
    "cm = confusion_matrix(y_test, y_pred3)\n",
    "plt.rcParams['figure.figsize'] = (8, 8)\n",
    "sns.heatmap(cm, annot = True, cmap = 'Reds')\n",
    "plt.title('Confusion Matrix for KNeighbors', fontweight = 30, fontsize = 20)\n",
    "plt.show()"
   ]
  },
  {
   "cell_type": "code",
   "execution_count": 26,
   "metadata": {
    "id": "pm8e98YES-Yf"
   },
   "outputs": [],
   "source": [
    "#features ; 'Party Number', 'Age', 'Marital Status', 'Number of Criminal Cases', 'Gender', 'Education'\n",
    "#  1   72               2                         3       1\n",
    "f = np.array([[3,34,19,0,0]])\n",
    "p = model.predict(f)\n"
   ]
  },
  {
   "cell_type": "code",
   "execution_count": 27,
   "metadata": {
    "colab": {
     "base_uri": "https://localhost:8080/"
    },
    "id": "vufy0Y03AELX",
    "outputId": "fb35ad7f-3855-4274-ae13-5148592c7dd1"
   },
   "outputs": [
    {
     "name": "stdout",
     "output_type": "stream",
     "text": [
      "Lose\n",
      "None\n"
     ]
    }
   ],
   "source": [
    "print(WL(p))"
   ]
  },
  {
   "cell_type": "code",
   "execution_count": 28,
   "metadata": {
    "id": "pdFuQKcaAUTt"
   },
   "outputs": [],
   "source": [
    "f = np.array([[1,55,3,0,5]])\n",
    "p = classifier.predict(f)\n"
   ]
  },
  {
   "cell_type": "code",
   "execution_count": 29,
   "metadata": {
    "colab": {
     "base_uri": "https://localhost:8080/"
    },
    "id": "P6uf3lDSUwdD",
    "outputId": "0dd1290d-73e0-4d03-cccf-7b453735e8f3"
   },
   "outputs": [
    {
     "name": "stdout",
     "output_type": "stream",
     "text": [
      "Win\n",
      "None\n"
     ]
    }
   ],
   "source": [
    "print(WL(p))"
   ]
  },
  {
   "cell_type": "code",
   "execution_count": null,
   "metadata": {
    "id": "IUssTXe0U3sM"
   },
   "outputs": [],
   "source": []
  },
  {
   "cell_type": "code",
   "execution_count": null,
   "metadata": {
    "id": "Tp3PwvpkXpkw"
   },
   "outputs": [],
   "source": []
  }
 ],
 "metadata": {
  "colab": {
   "name": "Election Prediction.ipynb",
   "provenance": []
  },
  "kernelspec": {
   "display_name": "Python 3 (ipykernel)",
   "language": "python",
   "name": "python3"
  },
  "language_info": {
   "codemirror_mode": {
    "name": "ipython",
    "version": 3
   },
   "file_extension": ".py",
   "mimetype": "text/x-python",
   "name": "python",
   "nbconvert_exporter": "python",
   "pygments_lexer": "ipython3",
   "version": "3.9.7"
  }
 },
 "nbformat": 4,
 "nbformat_minor": 1
}
